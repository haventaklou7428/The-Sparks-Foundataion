{
 "cells": [
  {
   "cell_type": "markdown",
   "id": "74c2ea4e",
   "metadata": {},
   "source": [
    "# Task 1 : Supervised-Learning"
   ]
  },
  {
   "cell_type": "markdown",
   "id": "61682275",
   "metadata": {},
   "source": [
    "## Author: Prathamesh Shirole"
   ]
  },
  {
   "cell_type": "markdown",
   "id": "7f5bd489",
   "metadata": {},
   "source": [
    "## GRIP Internship - Data Science & Business Analytics"
   ]
  },
  {
   "cell_type": "markdown",
   "id": "cf2f37f1",
   "metadata": {},
   "source": [
    "This task involves analysing two variables by applying a simple linear regression module, using Python's Scikit-Learn library\n",
    "for machine learning."
   ]
  },
  {
   "cell_type": "markdown",
   "id": "c55d10da",
   "metadata": {},
   "source": [
    "## Simple linear regression:"
   ]
  },
  {
   "cell_type": "markdown",
   "id": "a29d6e5d",
   "metadata": {},
   "source": [
    "Linear regression is a mathematical method to plot a scalar relationship between one or more variables. This involves usually\n",
    "a single independant that when given input to a function provides an output. For practical data, we can essentially understand to what degree a particular independant variable affects the outcome."
   ]
  },
  {
   "cell_type": "markdown",
   "id": "a4c7a962",
   "metadata": {},
   "source": [
    "In this case we not only find the correlation but also predict how well does the student perform in his or her exam given the\n",
    "number of hours he or she studies."
   ]
  },
  {
   "cell_type": "code",
   "execution_count": 1,
   "id": "325a3f95",
   "metadata": {},
   "outputs": [],
   "source": [
    "import pandas as pd\n",
    "import numpy as np\n",
    "import matplotlib.pyplot as plt\n",
    "%matplotlib inline"
   ]
  },
  {
   "cell_type": "code",
   "execution_count": 2,
   "id": "169e1732",
   "metadata": {},
   "outputs": [],
   "source": [
    "student_data = pd.read_csv('datasets/hours_scores.csv')"
   ]
  },
  {
   "cell_type": "markdown",
   "id": "23e973cc",
   "metadata": {},
   "source": [
    "Let's check for Nan values and convert the values of the columns to float."
   ]
  },
  {
   "cell_type": "markdown",
   "id": "a7f0ba63",
   "metadata": {},
   "source": [
    "So, there are no Nan values, this saves us from cleaning the simple two variable dataset."
   ]
  },
  {
   "cell_type": "markdown",
   "id": "1b767d3f",
   "metadata": {},
   "source": [
    "Let's take a look at the general relationship of the two variables with each other by a simple scatter plot."
   ]
  },
  {
   "cell_type": "code",
   "execution_count": 3,
   "id": "f89b8009",
   "metadata": {
    "scrolled": true
   },
   "outputs": [
    {
     "data": {
      "image/png": "[encoded data removed]",
      "text/plain": [
       "<Figure size 432x288 with 1 Axes>"
      ]
     },
     "metadata": {
      "needs_background": "light"
     },
     "output_type": "display_data"
    }
   ],
   "source": [
    "student_data.plot(x='Hours', y='Scores',style='o')\n",
    "plt.title('The relationship between variables')\n",
    "plt.xlabel('The No. of hours the student studied')\n",
    "plt.ylabel('The corresponding Score they received')\n",
    "plt.show()"
   ]
  },
  {
   "cell_type": "markdown",
   "id": "0eb4c34e",
   "metadata": {},
   "source": [
    "**From the plot it is quite evident that there is linear correlation between hours studied and scores**"
   ]
  },
  {
   "cell_type": "markdown",
   "id": "e460e3ab",
   "metadata": {},
   "source": [
    "Let us also see the correlation"
   ]
  },
  {
   "cell_type": "code",
   "execution_count": 4,
   "id": "c83c7838",
   "metadata": {},
   "outputs": [],
   "source": [
    "import scipy.stats as stats"
   ]
  },
  {
   "cell_type": "code",
   "execution_count": 5,
   "id": "68ee2eff",
   "metadata": {},
   "outputs": [],
   "source": [
    "hours_studied = pd.to_numeric(student_data['Hours'], errors = 'coerce')\n",
    "scores_received = pd.to_numeric(student_data['Scores'], errors='coerce')"
   ]
  },
  {
   "cell_type": "code",
   "execution_count": 6,
   "id": "d8eb64e1",
   "metadata": {},
   "outputs": [
    {
     "data": {
      "text/plain": [
       "0.9761906560220884"
      ]
     },
     "execution_count": 6,
     "metadata": {},
     "output_type": "execute_result"
    }
   ],
   "source": [
    "stats.pearsonr(hours_studied,scores_received)[0]"
   ]
  },
  {
   "cell_type": "code",
   "execution_count": 7,
   "id": "31059670",
   "metadata": {},
   "outputs": [
    {
     "data": {
      "text/html": [
       "<div>\n",
       "<style scoped>\n",
       "    .dataframe tbody tr th:only-of-type {\n",
       "        vertical-align: middle;\n",
       "    }\n",
       "\n",
       "    .dataframe tbody tr th {\n",
       "        vertical-align: top;\n",
       "    }\n",
       "\n",
       "    .dataframe thead th {\n",
       "        text-align: right;\n",
       "    }\n",
       "</style>\n",
       "<table border=\"1\" class=\"dataframe\">\n",
       "  <thead>\n",
       "    <tr style=\"text-align: right;\">\n",
       "      <th></th>\n",
       "      <th>Hours</th>\n",
       "      <th>Scores</th>\n",
       "    </tr>\n",
       "  </thead>\n",
       "  <tbody>\n",
       "    <tr>\n",
       "      <th>Hours</th>\n",
       "      <td>1.000000</td>\n",
       "      <td>0.976191</td>\n",
       "    </tr>\n",
       "    <tr>\n",
       "      <th>Scores</th>\n",
       "      <td>0.976191</td>\n",
       "      <td>1.000000</td>\n",
       "    </tr>\n",
       "  </tbody>\n",
       "</table>\n",
       "</div>"
      ],
      "text/plain": [
       "           Hours    Scores\n",
       "Hours   1.000000  0.976191\n",
       "Scores  0.976191  1.000000"
      ]
     },
     "execution_count": 7,
     "metadata": {},
     "output_type": "execute_result"
    }
   ],
   "source": [
    "student_data.corr()"
   ]
  },
  {
   "cell_type": "markdown",
   "id": "a3e717bf",
   "metadata": {},
   "source": [
    "### Data Splits:"
   ]
  },
  {
   "cell_type": "markdown",
   "id": "d33d182b",
   "metadata": {},
   "source": [
    "Let us now understand that our input will be the hours studied and the output will be the score they would have received"
   ]
  },
  {
   "cell_type": "code",
   "execution_count": 8,
   "id": "a6cebf92",
   "metadata": {},
   "outputs": [],
   "source": [
    "X = student_data.iloc[:,0].values.reshape(-1,1)  # hours studied\n",
    "Y = student_data.iloc[:,1]    # score received"
   ]
  },
  {
   "cell_type": "code",
   "execution_count": 9,
   "id": "d54861ee",
   "metadata": {},
   "outputs": [],
   "source": [
    "from sklearn.model_selection import train_test_split  \n",
    "\n",
    "X_train, X_test, Y_train, Y_test = train_test_split(X, Y, test_size=0.2, random_state=0) "
   ]
  },
  {
   "cell_type": "markdown",
   "id": "20dafc77",
   "metadata": {},
   "source": [
    "Supervised learning involves giving an input-output pair example to the machine, which then understands this relation\n",
    "this is called **training** the dataset."
   ]
  },
  {
   "cell_type": "markdown",
   "id": "e0fa460d",
   "metadata": {},
   "source": [
    "We import the **linear regression module** for the estabilished linear correlation between scores and hours studied"
   ]
  },
  {
   "cell_type": "code",
   "execution_count": 10,
   "id": "86d85b76",
   "metadata": {},
   "outputs": [
    {
     "name": "stdout",
     "output_type": "stream",
     "text": [
      "System is trained\n"
     ]
    }
   ],
   "source": [
    "from sklearn.linear_model import LinearRegression  \n",
    "lr = LinearRegression()  \n",
    "lr.fit(X_train, Y_train) \n",
    "\n",
    "print(\"System is trained\")"
   ]
  },
  {
   "cell_type": "code",
   "execution_count": 12,
   "id": "42c5d70a",
   "metadata": {},
   "outputs": [],
   "source": [
    "import seaborn as sns"
   ]
  },
  {
   "cell_type": "code",
   "execution_count": 14,
   "id": "1f237bdb",
   "metadata": {},
   "outputs": [
    {
     "data": {
      "text/plain": [
       "Text(0.5, 0, 'hours')"
      ]
     },
     "execution_count": 14,
     "metadata": {},
     "output_type": "execute_result"
    },
    {
     "data": {
      "image/png": "[encoded data removed]",
      "text/plain": [
       "<Figure size 432x288 with 1 Axes>"
      ]
     },
     "metadata": {
      "needs_background": "light"
     },
     "output_type": "display_data"
    }
   ],
   "source": [
    "sns.regplot(x=X,y=Y)\n",
    "plt.xlabel(\"hours\")"
   ]
  },
  {
   "cell_type": "markdown",
   "id": "0e5d868c",
   "metadata": {},
   "source": [
    "**Now that we have completed training our datasets, it's time to make predictions!**"
   ]
  },
  {
   "cell_type": "code",
   "execution_count": 15,
   "id": "ffcdb945",
   "metadata": {},
   "outputs": [],
   "source": [
    "Scores_predict = lr.predict(X_test)"
   ]
  },
  {
   "cell_type": "code",
   "execution_count": 16,
   "id": "e959074e",
   "metadata": {},
   "outputs": [
    {
     "data": {
      "text/plain": [
       "array([16.88414476, 33.73226078, 75.357018  , 26.79480124, 60.49103328])"
      ]
     },
     "execution_count": 16,
     "metadata": {},
     "output_type": "execute_result"
    }
   ],
   "source": [
    "Scores_predict"
   ]
  },
  {
   "cell_type": "code",
   "execution_count": 17,
   "id": "66f85e75",
   "metadata": {},
   "outputs": [],
   "source": [
    "predictions = pd.DataFrame({'Actual': Y_test, 'Predicted': Scores_predict})"
   ]
  },
  {
   "cell_type": "code",
   "execution_count": 18,
   "id": "77489d22",
   "metadata": {},
   "outputs": [
    {
     "data": {
      "text/html": [
       "<div>\n",
       "<style scoped>\n",
       "    .dataframe tbody tr th:only-of-type {\n",
       "        vertical-align: middle;\n",
       "    }\n",
       "\n",
       "    .dataframe tbody tr th {\n",
       "        vertical-align: top;\n",
       "    }\n",
       "\n",
       "    .dataframe thead th {\n",
       "        text-align: right;\n",
       "    }\n",
       "</style>\n",
       "<table border=\"1\" class=\"dataframe\">\n",
       "  <thead>\n",
       "    <tr style=\"text-align: right;\">\n",
       "      <th></th>\n",
       "      <th>Actual</th>\n",
       "      <th>Predicted</th>\n",
       "    </tr>\n",
       "  </thead>\n",
       "  <tbody>\n",
       "    <tr>\n",
       "      <th>5</th>\n",
       "      <td>20</td>\n",
       "      <td>16.884145</td>\n",
       "    </tr>\n",
       "    <tr>\n",
       "      <th>2</th>\n",
       "      <td>27</td>\n",
       "      <td>33.732261</td>\n",
       "    </tr>\n",
       "    <tr>\n",
       "      <th>19</th>\n",
       "      <td>69</td>\n",
       "      <td>75.357018</td>\n",
       "    </tr>\n",
       "    <tr>\n",
       "      <th>16</th>\n",
       "      <td>30</td>\n",
       "      <td>26.794801</td>\n",
       "    </tr>\n",
       "    <tr>\n",
       "      <th>11</th>\n",
       "      <td>62</td>\n",
       "      <td>60.491033</td>\n",
       "    </tr>\n",
       "  </tbody>\n",
       "</table>\n",
       "</div>"
      ],
      "text/plain": [
       "    Actual  Predicted\n",
       "5       20  16.884145\n",
       "2       27  33.732261\n",
       "19      69  75.357018\n",
       "16      30  26.794801\n",
       "11      62  60.491033"
      ]
     },
     "execution_count": 18,
     "metadata": {},
     "output_type": "execute_result"
    }
   ],
   "source": [
    "predictions"
   ]
  },
  {
   "cell_type": "markdown",
   "id": "b1c82171",
   "metadata": {},
   "source": [
    "So we see that the predicted value is slightly skewed yet a decent accuracy is acheived. To compare these two properly let's compare these two by a density plot."
   ]
  },
  {
   "cell_type": "code",
   "execution_count": 19,
   "id": "4446f6ba",
   "metadata": {},
   "outputs": [
    {
     "data": {
      "text/plain": [
       "<seaborn.axisgrid.FacetGrid at 0xa9811a8>"
      ]
     },
     "execution_count": 19,
     "metadata": {},
     "output_type": "execute_result"
    },
    {
     "data": {
      "image/png": "[encoded data removed]",
      "text/plain": [
       "<Figure size 443x360 with 1 Axes>"
      ]
     },
     "metadata": {
      "needs_background": "light"
     },
     "output_type": "display_data"
    }
   ],
   "source": [
    "sns.displot(predictions, kind=\"kde\")"
   ]
  },
  {
   "cell_type": "markdown",
   "id": "96159712",
   "metadata": {},
   "source": [
    "We can now predict scores on the amount of hours studied by a student."
   ]
  },
  {
   "cell_type": "code",
   "execution_count": 21,
   "id": "f7212736",
   "metadata": {},
   "outputs": [
    {
     "name": "stdout",
     "output_type": "stream",
     "text": [
      "Enter the no of hours you have studied: 7\n",
      "You will score around  71.39275540593033\n"
     ]
    }
   ],
   "source": [
    "Hours= input(\"Enter the no of hours you have studied: \")\n",
    "hour= float(Hours)\n",
    "ar= [[hour]]\n",
    "user_pred= lr.predict(ar)\n",
    "score= user_pred[0]\n",
    "print(\"You will score around \",score)"
   ]
  },
  {
   "cell_type": "markdown",
   "id": "2fe41894",
   "metadata": {},
   "source": [
    "Obviously the predictions are not identical but the error in these prediction models can be calculated by using multiple methods. One such method is the **mean square root error**."
   ]
  },
  {
   "cell_type": "code",
   "execution_count": 22,
   "id": "3917b392",
   "metadata": {},
   "outputs": [
    {
     "name": "stdout",
     "output_type": "stream",
     "text": [
      "Mean Absolute Error: 4.18385989900298\n"
     ]
    }
   ],
   "source": [
    "from sklearn import metrics  \n",
    "print('Mean Absolute Error:', metrics.mean_absolute_error(Y_test, Scores_predict))"
   ]
  }
 ],
 "metadata": {
  "kernelspec": {
   "display_name": "Python 3",
   "language": "python",
   "name": "python3"
  },
  "language_info": {
   "codemirror_mode": {
    "name": "ipython",
    "version": 3
   },
   "file_extension": ".py",
   "mimetype": "text/x-python",
   "name": "python",
   "nbconvert_exporter": "python",
   "pygments_lexer": "ipython3",
   "version": "3.9.5"
  }
 },
 "nbformat": 4,
 "nbformat_minor": 5
}
